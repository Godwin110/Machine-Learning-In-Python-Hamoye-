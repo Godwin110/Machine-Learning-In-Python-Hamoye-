{
 "cells": [
  {
   "cell_type": "code",
   "execution_count": 83,
   "metadata": {},
   "outputs": [
    {
     "data": {
      "text/html": [
       "<div>\n",
       "<style scoped>\n",
       "    .dataframe tbody tr th:only-of-type {\n",
       "        vertical-align: middle;\n",
       "    }\n",
       "\n",
       "    .dataframe tbody tr th {\n",
       "        vertical-align: top;\n",
       "    }\n",
       "\n",
       "    .dataframe thead th {\n",
       "        text-align: right;\n",
       "    }\n",
       "</style>\n",
       "<table border=\"1\" class=\"dataframe\">\n",
       "  <thead>\n",
       "    <tr style=\"text-align: right;\">\n",
       "      <th></th>\n",
       "      <th>Age</th>\n",
       "      <th>Nationality</th>\n",
       "      <th>Overall</th>\n",
       "    </tr>\n",
       "  </thead>\n",
       "  <tbody>\n",
       "    <tr>\n",
       "      <th>1</th>\n",
       "      <td>35</td>\n",
       "      <td>Portugal</td>\n",
       "      <td>94</td>\n",
       "    </tr>\n",
       "    <tr>\n",
       "      <th>2</th>\n",
       "      <td>33</td>\n",
       "      <td>Argentina</td>\n",
       "      <td>93</td>\n",
       "    </tr>\n",
       "    <tr>\n",
       "      <th>3</th>\n",
       "      <td>30</td>\n",
       "      <td>Brazil</td>\n",
       "      <td>92</td>\n",
       "    </tr>\n",
       "  </tbody>\n",
       "</table>\n",
       "</div>"
      ],
      "text/plain": [
       "   Age Nationality  Overall\n",
       "1   35    Portugal       94\n",
       "2   33   Argentina       93\n",
       "3   30      Brazil       92"
      ]
     },
     "execution_count": 83,
     "metadata": {},
     "output_type": "execute_result"
    }
   ],
   "source": [
    "#Q1\n",
    "import pandas as pd\n",
    "import numpy as np\n",
    "lst=[[35,'Portugal',94],[33,'Argentina',93],[30,'Brazil',92]]\n",
    "col=['Age','Nationality','Overall']\n",
    "pd.DataFrame(lst,columns=col,index=[i for i in range(1,4)])"
   ]
  },
  {
   "cell_type": "code",
   "execution_count": 84,
   "metadata": {},
   "outputs": [
    {
     "data": {
      "text/plain": [
       "array([[89, 63],\n",
       "       [92, 48]])"
      ]
     },
     "execution_count": 84,
     "metadata": {},
     "output_type": "execute_result"
    }
   ],
   "source": [
    "#Q2\n",
    "array=np.array([[94,89,63],[93,92,48],[92,94,56]])\n",
    "array[:2,1:]"
   ]
  },
  {
   "cell_type": "code",
   "execution_count": 85,
   "metadata": {},
   "outputs": [
    {
     "data": {
      "text/plain": [
       "'e'"
      ]
     },
     "execution_count": 85,
     "metadata": {},
     "output_type": "execute_result"
    }
   ],
   "source": [
    "#Q5\n",
    "S=[['him','sell'],[90,28,43]]\n",
    "S[0][1][1]"
   ]
  },
  {
   "cell_type": "code",
   "execution_count": 87,
   "metadata": {},
   "outputs": [
    {
     "ename": "TypeError",
     "evalue": "'tuple' object does not support item assignment",
     "output_type": "error",
     "traceback": [
      "\u001b[1;31m---------------------------------------------------------------------------\u001b[0m",
      "\u001b[1;31mTypeError\u001b[0m                                 Traceback (most recent call last)",
      "\u001b[1;32m<ipython-input-87-637d4c143024>\u001b[0m in \u001b[0;36m<module>\u001b[1;34m\u001b[0m\n\u001b[0;32m      1\u001b[0m \u001b[1;31m#Q6\u001b[0m\u001b[1;33m\u001b[0m\u001b[1;33m\u001b[0m\u001b[1;33m\u001b[0m\u001b[0m\n\u001b[0;32m      2\u001b[0m \u001b[0mmy_tuppy\u001b[0m\u001b[1;33m=\u001b[0m\u001b[1;33m(\u001b[0m\u001b[1;36m1\u001b[0m\u001b[1;33m,\u001b[0m\u001b[1;36m2\u001b[0m\u001b[1;33m,\u001b[0m\u001b[1;36m5\u001b[0m\u001b[1;33m,\u001b[0m\u001b[1;36m8\u001b[0m\u001b[1;33m)\u001b[0m\u001b[1;33m\u001b[0m\u001b[1;33m\u001b[0m\u001b[0m\n\u001b[1;32m----> 3\u001b[1;33m \u001b[0mmy_tuppy\u001b[0m\u001b[1;33m[\u001b[0m\u001b[1;36m2\u001b[0m\u001b[1;33m]\u001b[0m\u001b[1;33m=\u001b[0m\u001b[1;36m6\u001b[0m\u001b[1;33m\u001b[0m\u001b[1;33m\u001b[0m\u001b[0m\n\u001b[0m",
      "\u001b[1;31mTypeError\u001b[0m: 'tuple' object does not support item assignment"
     ]
    }
   ],
   "source": [
    "#Q6\n",
    "my_tuppy=(1,2,5,8)\n",
    "my_tuppy[2]=6"
   ]
  },
  {
   "cell_type": "code",
   "execution_count": 88,
   "metadata": {},
   "outputs": [
    {
     "data": {
      "text/plain": [
       "array([[89, 63],\n",
       "       [92, 48]])"
      ]
     },
     "execution_count": 88,
     "metadata": {},
     "output_type": "execute_result"
    }
   ],
   "source": [
    "#Q7\n",
    "y=[(2,4),(7,8),(1,5,9)]\n",
    "x=y[1][-1]\n",
    "x\n",
    "array[:2,1:]"
   ]
  },
  {
   "cell_type": "code",
   "execution_count": 90,
   "metadata": {},
   "outputs": [
    {
     "name": "stdout",
     "output_type": "stream",
     "text": [
      "                     Area Code  Item Code  Element Code      Y2014      Y2015  \\\n",
      "Item                                                                            \n",
      "Alcohol, Non-Food        38447     752497       1515090    2403.00    2180.00   \n",
      "Alcoholic Beverages      75016    1649136       2171381  102410.11   98783.72   \n",
      "Animal Products          18060     397035         90990   11935.65   11811.73   \n",
      "Animal fats              85279    1882494       2567303  209460.54  200675.72   \n",
      "Apples and products      69280    1352989       1920418    9499.23   10559.15   \n",
      "...                        ...        ...           ...        ...        ...   \n",
      "Vegetables, Other        77779    1518715       2275409  155038.96  158104.08   \n",
      "Vegetal Products         18060     391905         90990  107145.19  107064.17   \n",
      "Wheat and products       87073    1639683       2654934  232670.13  234710.51   \n",
      "Wine                     66206    1319535       1818328    4497.36    4251.81   \n",
      "Yams                     50798     970905       1525745  200396.96  203151.78   \n",
      "\n",
      "                         Y2016      Y2017      Y2018  \n",
      "Item                                                  \n",
      "Alcohol, Non-Food      2223.00    2348.00    2293.00  \n",
      "Alcoholic Beverages   96958.75   95581.06   97847.27  \n",
      "Animal Products       11661.69   11547.65   11578.61  \n",
      "Animal fats          183314.22  269617.53  269648.27  \n",
      "Apples and products    9853.26   10198.90    9640.51  \n",
      "...                        ...        ...        ...  \n",
      "Vegetables, Other    156218.90  157752.59  163987.21  \n",
      "Vegetal Products     106792.72  107655.20  107775.39  \n",
      "Wheat and products   239377.07  240047.62  242645.19  \n",
      "Wine                   3872.09    4178.02    4039.32  \n",
      "Yams                 220626.20  229174.59  221272.09  \n",
      "\n",
      "[119 rows x 8 columns]\n",
      "Total sum of Animal Fat in 2014 is 209460.54 and in 2017 is 269617.53\n"
     ]
    }
   ],
   "source": [
    "#Q11\n",
    "data=pd.read_csv('FoodBalanceSheets_E_Africa_NOFLAG.csv',encoding='unicode_escape')\n",
    "data.head()\n",
    "#Q11 continuation\n",
    "print(data.groupby('Item').sum())\n",
    "print('Total sum of Animal Fat in 2014 is 209460.54 and in 2017 is 269617.53')"
   ]
  },
  {
   "cell_type": "code",
   "execution_count": 92,
   "metadata": {},
   "outputs": [
    {
     "name": "stdout",
     "output_type": "stream",
     "text": [
      "          Area Code     Item Code  Element Code          Y2014          Y2015  \\\n",
      "count  60943.000000  60943.000000  60943.000000   59354.000000   59395.000000   \n",
      "mean     134.265576   2687.176706   3814.856456     134.196282     135.235966   \n",
      "std       72.605709    146.055739   2212.007033    1567.663696    1603.403984   \n",
      "min        4.000000   2501.000000    511.000000   -1796.000000   -3161.000000   \n",
      "25%       74.000000   2562.000000    684.000000       0.000000       0.000000   \n",
      "50%      136.000000   2630.000000   5142.000000       0.090000       0.080000   \n",
      "75%      195.000000   2775.000000   5511.000000       8.340000       8.460000   \n",
      "max      276.000000   2961.000000   5911.000000  176405.000000  181137.000000   \n",
      "\n",
      "               Y2016          Y2017          Y2018  \n",
      "count   59408.000000   59437.000000   59507.000000  \n",
      "mean      136.555222     140.917765     143.758381  \n",
      "std      1640.007194    1671.862359    1710.782658  \n",
      "min     -3225.000000   -1582.000000   -3396.000000  \n",
      "25%         0.000000       0.000000       0.000000  \n",
      "50%         0.080000       0.100000       0.070000  \n",
      "75%         8.430000       9.000000       9.000000  \n",
      "max    185960.000000  190873.000000  195875.000000  \n",
      "Mean in 2015 is 135.236 and std is 1603.404\n"
     ]
    }
   ],
   "source": [
    "#Q12\n",
    "print(data.describe())\n",
    "print('Mean in 2015 is 135.236 and std is 1603.404')"
   ]
  },
  {
   "cell_type": "code",
   "execution_count": 93,
   "metadata": {},
   "outputs": [
    {
     "name": "stdout",
     "output_type": "stream",
     "text": [
      "total number and percentage of missing data in 2016 is 1535 and 20.160231153138955 respectively\n"
     ]
    }
   ],
   "source": [
    "#Q13\n",
    "Missing=data.isnull().sum()\n",
    "missing_2016 = Missing['Y2016']\n",
    "total_missing =data.isnull().sum().sum()\n",
    "percentage_missing_2016 = missing_2016 / total_missing *100\n",
    "print('total number and percentage of missing data in 2016 is {} and {} respectively'.format(missing_2016,percentage_missing_2016))"
   ]
  },
  {
   "cell_type": "code",
   "execution_count": 94,
   "metadata": {},
   "outputs": [
    {
     "name": "stdout",
     "output_type": "stream",
     "text": [
      "              Element Code     Y2018     Y2015     Y2014     Y2016     Y2017\n",
      "Element Code      1.000000  0.024279  0.023889  0.024457  0.023444  0.024254\n",
      "Y2018             0.024279  1.000000  0.988208  0.994872  0.992757  0.998103\n",
      "Y2015             0.023889  0.988208  1.000000  0.994647  0.995739  0.988048\n",
      "Y2014             0.024457  0.994872  0.994647  1.000000  0.996081  0.995230\n",
      "Y2016             0.023444  0.992757  0.995739  0.996081  1.000000  0.992785\n",
      "Y2017             0.024254  0.998103  0.988048  0.995230  0.992785  1.000000\n",
      "The year with the highest correlation with element code  is : Y2014\n"
     ]
    }
   ],
   "source": [
    "#Q14\n",
    "correlation= data[['Element Code', 'Y2018','Y2015','Y2014','Y2016','Y2017']]\n",
    "print(correlation.corr())\n",
    "print('The year with the highest correlation with element code  is : Y2014')"
   ]
  },
  {
   "cell_type": "code",
   "execution_count": 95,
   "metadata": {},
   "outputs": [
    {
     "name": "stdout",
     "output_type": "stream",
     "text": [
      "                                        Area Code  Item Code  Element Code  \\\n",
      "Element                                                                      \n",
      "Domestic supply quantity                   708993   14197445      28068795   \n",
      "Export Quantity                            599910   11840553      26026133   \n",
      "Fat supply quantity (g/capita/day)         675050   13535000       3435732   \n",
      "Feed                                       176272    3538507       7282199   \n",
      "Food                                       663295   13285035      25406622   \n",
      "Food supply (kcal/capita/day)              674057   13511060       3329296   \n",
      "Food supply quantity (kg/capita/yr)        658446   13185401       3163725   \n",
      "Import Quantity                            688174   13795966      28834929   \n",
      "Losses                                     274353    5424803      10292107   \n",
      "Other uses (non-food)                      235554    4729749       8926728   \n",
      "Processing                                 271940    5350416      10313310   \n",
      "Production                                 526751   10450053      21388191   \n",
      "Protein supply quantity (g/capita/day)     675050   13535000       3385502   \n",
      "Residuals                                  623271   12421089      24066350   \n",
      "Seed                                       103537    2035933       4211574   \n",
      "Stock Variation                            571566   11329527      21464704   \n",
      "Total Population - Both sexes                6020     112545         22995   \n",
      "Tourist consumption                         50308    1486528       2869905   \n",
      "\n",
      "                                             Y2014       Y2015       Y2016  \\\n",
      "Element                                                                      \n",
      "Domestic supply quantity                1996716.35  2021493.55  2044842.70   \n",
      "Export Quantity                          150020.64   157614.47   151920.46   \n",
      "Fat supply quantity (g/capita/day)        10225.56    10235.74    10102.77   \n",
      "Feed                                     216927.89   225050.22   228958.65   \n",
      "Food                                    1212332.49  1232361.10  1247022.17   \n",
      "Food supply (kcal/capita/day)            454257.00   453383.00   451810.00   \n",
      "Food supply quantity (kg/capita/yr)       49650.63    49345.13    48985.28   \n",
      "Import Quantity                          274144.48   267018.46   286582.78   \n",
      "Losses                                   153223.00   155439.00   157787.00   \n",
      "Other uses (non-food)                     78718.13    66254.41    69563.68   \n",
      "Processing                               282923.00   287929.00   280631.00   \n",
      "Production                              1931287.75  1947019.39  1943537.15   \n",
      "Protein supply quantity (g/capita/day)    11836.46    11833.95    11779.69   \n",
      "Residuals                                 30149.00    30045.00    37224.00   \n",
      "Seed                                      21922.92    23976.82    23389.20   \n",
      "Stock Variation                           58749.83    34910.99    33140.12   \n",
      "Total Population - Both sexes           1031585.00  1058081.00  1085107.00   \n",
      "Tourist consumption                         416.00      349.00       89.00   \n",
      "\n",
      "                                             Y2017       Y2018  \n",
      "Element                                                         \n",
      "Domestic supply quantity                2088198.10  2161192.10  \n",
      "Export Quantity                          182338.80   181594.80  \n",
      "Fat supply quantity (g/capita/day)        10253.84    10258.69  \n",
      "Feed                                     223705.68   233489.68  \n",
      "Food                                    1258888.28  1303841.28  \n",
      "Food supply (kcal/capita/day)            454681.00   455261.00  \n",
      "Food supply quantity (kg/capita/yr)       48690.04    49056.85  \n",
      "Import Quantity                          294559.09   287997.09  \n",
      "Losses                                   160614.00   163902.00  \n",
      "Other uses (non-food)                     91645.97    91300.97  \n",
      "Processing                               292836.00   308429.00  \n",
      "Production                              2030056.89  2075072.89  \n",
      "Protein supply quantity (g/capita/day)    11842.45    11833.56  \n",
      "Residuals                                 35500.00    34864.00  \n",
      "Seed                                      24870.14    25263.14  \n",
      "Stock Variation                           54316.91    20577.91  \n",
      "Total Population - Both sexes           1112641.00  1140605.00  \n",
      "Tourist consumption                          91.00       90.00  \n",
      "The year with the highest sum of Import Quantity is Y2017\n"
     ]
    }
   ],
   "source": [
    "#Q15\n",
    "print(data.groupby('Element').sum())\n",
    "print('The year with the highest sum of Import Quantity is Y2017')"
   ]
  },
  {
   "cell_type": "code",
   "execution_count": 96,
   "metadata": {},
   "outputs": [
    {
     "name": "stdout",
     "output_type": "stream",
     "text": [
      "                                        Area Code  Item Code  Element Code  \\\n",
      "Element                                                                      \n",
      "Domestic supply quantity                   708993   14197445      28068795   \n",
      "Export Quantity                            599910   11840553      26026133   \n",
      "Fat supply quantity (g/capita/day)         675050   13535000       3435732   \n",
      "Feed                                       176272    3538507       7282199   \n",
      "Food                                       663295   13285035      25406622   \n",
      "Food supply (kcal/capita/day)              674057   13511060       3329296   \n",
      "Food supply quantity (kg/capita/yr)        658446   13185401       3163725   \n",
      "Import Quantity                            688174   13795966      28834929   \n",
      "Losses                                     274353    5424803      10292107   \n",
      "Other uses (non-food)                      235554    4729749       8926728   \n",
      "Processing                                 271940    5350416      10313310   \n",
      "Production                                 526751   10450053      21388191   \n",
      "Protein supply quantity (g/capita/day)     675050   13535000       3385502   \n",
      "Residuals                                  623271   12421089      24066350   \n",
      "Seed                                       103537    2035933       4211574   \n",
      "Stock Variation                            571566   11329527      21464704   \n",
      "Total Population - Both sexes                6020     112545         22995   \n",
      "Tourist consumption                         50308    1486528       2869905   \n",
      "\n",
      "                                             Y2014       Y2015       Y2016  \\\n",
      "Element                                                                      \n",
      "Domestic supply quantity                1996716.35  2021493.55  2044842.70   \n",
      "Export Quantity                          150020.64   157614.47   151920.46   \n",
      "Fat supply quantity (g/capita/day)        10225.56    10235.74    10102.77   \n",
      "Feed                                     216927.89   225050.22   228958.65   \n",
      "Food                                    1212332.49  1232361.10  1247022.17   \n",
      "Food supply (kcal/capita/day)            454257.00   453383.00   451810.00   \n",
      "Food supply quantity (kg/capita/yr)       49650.63    49345.13    48985.28   \n",
      "Import Quantity                          274144.48   267018.46   286582.78   \n",
      "Losses                                   153223.00   155439.00   157787.00   \n",
      "Other uses (non-food)                     78718.13    66254.41    69563.68   \n",
      "Processing                               282923.00   287929.00   280631.00   \n",
      "Production                              1931287.75  1947019.39  1943537.15   \n",
      "Protein supply quantity (g/capita/day)    11836.46    11833.95    11779.69   \n",
      "Residuals                                 30149.00    30045.00    37224.00   \n",
      "Seed                                      21922.92    23976.82    23389.20   \n",
      "Stock Variation                           58749.83    34910.99    33140.12   \n",
      "Total Population - Both sexes           1031585.00  1058081.00  1085107.00   \n",
      "Tourist consumption                         416.00      349.00       89.00   \n",
      "\n",
      "                                             Y2017       Y2018  \n",
      "Element                                                         \n",
      "Domestic supply quantity                2088198.10  2161192.10  \n",
      "Export Quantity                          182338.80   181594.80  \n",
      "Fat supply quantity (g/capita/day)        10253.84    10258.69  \n",
      "Feed                                     223705.68   233489.68  \n",
      "Food                                    1258888.28  1303841.28  \n",
      "Food supply (kcal/capita/day)            454681.00   455261.00  \n",
      "Food supply quantity (kg/capita/yr)       48690.04    49056.85  \n",
      "Import Quantity                          294559.09   287997.09  \n",
      "Losses                                   160614.00   163902.00  \n",
      "Other uses (non-food)                     91645.97    91300.97  \n",
      "Processing                               292836.00   308429.00  \n",
      "Production                              2030056.89  2075072.89  \n",
      "Protein supply quantity (g/capita/day)    11842.45    11833.56  \n",
      "Residuals                                 35500.00    34864.00  \n",
      "Seed                                      24870.14    25263.14  \n",
      "Stock Variation                           54316.91    20577.91  \n",
      "Total Population - Both sexes           1112641.00  1140605.00  \n",
      "Tourist consumption                          91.00       90.00  \n",
      "Total number of the sum of Production in the year 2014 is 1931287.75 \n"
     ]
    }
   ],
   "source": [
    "#Q16\n",
    "print(data.groupby('Element').sum())\n",
    "print('Total number of the sum of Production in the year 2014 is 1931287.75 ')"
   ]
  },
  {
   "cell_type": "code",
   "execution_count": 97,
   "metadata": {},
   "outputs": [
    {
     "name": "stdout",
     "output_type": "stream",
     "text": [
      "Y2018    Domestic supply quantity\n",
      "dtype: object\n"
     ]
    }
   ],
   "source": [
    "#Q17\n",
    "data1= data[['Element','Y2018']]\n",
    "Highest_sum_2018= data1.groupby('Element').sum().idxmax()\n",
    "print(Highest_sum_2018)"
   ]
  },
  {
   "cell_type": "code",
   "execution_count": 98,
   "metadata": {},
   "outputs": [
    {
     "name": "stdout",
     "output_type": "stream",
     "text": [
      "                                             Y2018\n",
      "Element                                           \n",
      "Tourist consumption                          90.00\n",
      "Fat supply quantity (g/capita/day)        10258.69\n",
      "Protein supply quantity (g/capita/day)    11833.56\n",
      "Stock Variation                           20577.91\n",
      "Seed                                      25263.14\n",
      "Residuals                                 34864.00\n",
      "Food supply quantity (kg/capita/yr)       49056.85\n",
      "Other uses (non-food)                     91300.97\n",
      "Losses                                   163902.00\n",
      "Export Quantity                          181594.80\n",
      "Feed                                     233489.68\n",
      "Import Quantity                          287997.09\n",
      "Processing                               308429.00\n",
      "Food supply (kcal/capita/day)            455261.00\n",
      "Total Population - Both sexes           1140605.00\n",
      "Food                                    1303841.28\n",
      "Production                              2075072.89\n",
      "Domestic supply quantity                2161192.10\n",
      "The element with the 3rd lowest sum in 2018 is Protein supply quantity (g/capita/day)\n"
     ]
    }
   ],
   "source": [
    "#Q18\n",
    "Third_lowest_sum_in_2018 = data1.groupby('Element').sum().sort_values('Y2018',ascending=True)\n",
    "print(Third_lowest_sum_in_2018)\n",
    "print('The element with the 3rd lowest sum in 2018 is Protein supply quantity (g/capita/day)')"
   ]
  },
  {
   "cell_type": "code",
   "execution_count": 99,
   "metadata": {},
   "outputs": [
    {
     "name": "stdout",
     "output_type": "stream",
     "text": [
      "                                        Area Code  Item Code  Element Code  \\\n",
      "Element                                                                      \n",
      "Domestic supply quantity                      464     311204        614916   \n",
      "Export Quantity                               392     264011        579278   \n",
      "Fat supply quantity (g/capita/day)            432     291489         73872   \n",
      "Feed                                           88      58967        121462   \n",
      "Food                                          420     282744        539910   \n",
      "Food supply (kcal/capita/day)                 432     291489         71712   \n",
      "Food supply quantity (kg/capita/yr)           420     282744         67725   \n",
      "Import Quantity                               448     301030        628432   \n",
      "Losses                                        208     139857        266396   \n",
      "Other uses (non-food)                         148     101269        190698   \n",
      "Processing                                    140      93537        179585   \n",
      "Production                                    360     242590        495990   \n",
      "Protein supply quantity (g/capita/day)        432     291489         72792   \n",
      "Residuals                                     408     272327        527340   \n",
      "Seed                                           80      53109        110540   \n",
      "Stock Variation                               376     251696        476768   \n",
      "Total Population - Both sexes                   4       2501           511   \n",
      "\n",
      "                                           Y2014     Y2015     Y2016  \\\n",
      "Element                                                                \n",
      "Domestic supply quantity                83755.94  85972.86  87157.61   \n",
      "Export Quantity                          1328.64   1104.62   1340.22   \n",
      "Fat supply quantity (g/capita/day)        320.19    317.40    309.54   \n",
      "Feed                                     9656.04  10308.00   9903.00   \n",
      "Food                                    60582.69  61693.49  63081.43   \n",
      "Food supply (kcal/capita/day)           13500.00  13512.00  13483.00   \n",
      "Food supply quantity (kg/capita/yr)      1556.45   1552.81   1555.77   \n",
      "Import Quantity                         34940.12  37841.91  36736.08   \n",
      "Losses                                   7231.00   7471.00   7405.00   \n",
      "Other uses (non-food)                    3315.22   3483.37   3400.17   \n",
      "Processing                               1776.00   1865.00   1920.00   \n",
      "Production                              52534.48  53451.57  54554.75   \n",
      "Protein supply quantity (g/capita/day)    379.56    377.37    378.84   \n",
      "Residuals                                 552.00    489.00    770.00   \n",
      "Seed                                      631.00    657.00    672.00   \n",
      "Stock Variation                          2392.00   4233.00   2789.00   \n",
      "Total Population - Both sexes           38924.00  39728.00  40551.00   \n",
      "\n",
      "                                           Y2017     Y2018  \n",
      "Element                                                     \n",
      "Domestic supply quantity                86810.42  90023.42  \n",
      "Export Quantity                          1494.54    811.54  \n",
      "Fat supply quantity (g/capita/day)        320.74    309.09  \n",
      "Feed                                     9571.00  10668.00  \n",
      "Food                                    62785.33  63736.33  \n",
      "Food supply (kcal/capita/day)           13363.00  13288.00  \n",
      "Food supply quantity (kg/capita/yr)      1516.94   1509.28  \n",
      "Import Quantity                         36059.29  36238.29  \n",
      "Losses                                   7428.00   7708.00  \n",
      "Other uses (non-food)                    3534.08   3970.08  \n",
      "Processing                               2045.00   2479.00  \n",
      "Production                              54869.67  60766.67  \n",
      "Protein supply quantity (g/capita/day)    371.26    367.28  \n",
      "Residuals                                 766.00    630.00  \n",
      "Seed                                      684.00    825.00  \n",
      "Stock Variation                          2636.00   6172.00  \n",
      "Total Population - Both sexes           41389.00  42228.00  \n",
      "Total Import Quantity in Algeria in 2018 is 36238.29\n"
     ]
    }
   ],
   "source": [
    "#Q19\n",
    "Import_Algeria= data[data['Area']== 'Algeria']\n",
    "print(Import_Algeria.groupby('Element').sum())\n",
    "print('Total Import Quantity in Algeria in 2018 is 36238.29')"
   ]
  },
  {
   "cell_type": "code",
   "execution_count": 101,
   "metadata": {},
   "outputs": [
    {
     "name": "stdout",
     "output_type": "stream",
     "text": [
      "The total number of unique countries in the dataset is 49\n"
     ]
    }
   ],
   "source": [
    "#Q20\n",
    "number_country= data.Area.nunique()\n",
    "print('The total number of unique countries in the dataset is {}'.format(number_country))"
   ]
  },
  {
   "cell_type": "code",
   "execution_count": null,
   "metadata": {},
   "outputs": [],
   "source": []
  }
 ],
 "metadata": {
  "kernelspec": {
   "display_name": "Python 3",
   "language": "python",
   "name": "python3"
  },
  "language_info": {
   "codemirror_mode": {
    "name": "ipython",
    "version": 3
   },
   "file_extension": ".py",
   "mimetype": "text/x-python",
   "name": "python",
   "nbconvert_exporter": "python",
   "pygments_lexer": "ipython3",
   "version": "3.8.5"
  }
 },
 "nbformat": 4,
 "nbformat_minor": 4
}
